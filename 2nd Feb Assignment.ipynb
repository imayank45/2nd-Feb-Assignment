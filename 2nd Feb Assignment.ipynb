{
 "cells": [
  {
   "cell_type": "markdown",
   "id": "0e0c1c0e",
   "metadata": {},
   "source": [
    "## Q1. Explain with an example each when to use a for loop and a while loop."
   ]
  },
  {
   "cell_type": "markdown",
   "id": "42471077",
   "metadata": {},
   "source": [
    "For loop:\n",
    "A for loop is a control flow statement that executes code repeatedly for a particular number of iterations. In this control flow statement, the keyword used is for. The for loop is used when the number of iterations is already known.\n",
    "\n",
    "The for loop has two parts:\n",
    "\n",
    "Header: The header part specifies the iteration of the loop. In this part, the loop variable is also declared, which tells the body which iteration is executed.\n",
    "Body: This part contains the statement executed per iteration."
   ]
  },
  {
   "cell_type": "code",
   "execution_count": 1,
   "id": "2b6ca57d",
   "metadata": {},
   "outputs": [
    {
     "name": "stdout",
     "output_type": "stream",
     "text": [
      "1\n",
      "2\n",
      "3\n"
     ]
    }
   ],
   "source": [
    "n = [1, 2, 3] \n",
    "for i in n:  \n",
    "    print(i)\n"
   ]
  },
  {
   "cell_type": "markdown",
   "id": "42f0f8f0",
   "metadata": {},
   "source": [
    "While loop: \n",
    "A loop that executes a single statement or a group of statements for the given true condition. The keyword used to represent this loop is \"while\". A \"while\" loop is used when the number of iterations is unknown. The statement repeats itself till the boolean value becomes false. In a while loop, the condition is tested at the start, also known as the pre-test loop"
   ]
  },
  {
   "cell_type": "code",
   "execution_count": 2,
   "id": "31d309b8",
   "metadata": {},
   "outputs": [
    {
     "name": "stdout",
     "output_type": "stream",
     "text": [
      "1\n",
      "2\n",
      "3\n",
      "4\n",
      "5\n"
     ]
    }
   ],
   "source": [
    "i = 1  \n",
    "while i < 6:\n",
    "    print(i)\n",
    "    i += 1  \n",
    "\n"
   ]
  },
  {
   "cell_type": "markdown",
   "id": "d1ecd2a8",
   "metadata": {},
   "source": [
    "## Q2. Write a python program to print the sum and product of the first 10 natural numbers using for and while loop."
   ]
  },
  {
   "cell_type": "code",
   "execution_count": 17,
   "id": "d9e74eed",
   "metadata": {},
   "outputs": [
    {
     "name": "stdout",
     "output_type": "stream",
     "text": [
      "The sum is 55\n",
      "The product is 3628800\n"
     ]
    }
   ],
   "source": [
    "\n",
    "n = 10\n",
    "\n",
    "if n < 0:\n",
    "    print(\"Enter a positive number\")\n",
    "else:\n",
    "    sum = 0\n",
    "    prod = 1\n",
    "    while(n > 0):\n",
    "        sum += n\n",
    "        prod *= n\n",
    "        n -= 1\n",
    "    print(\"The sum is\", sum)\n",
    "    print(\"The product is\", prod)\n",
    "\n"
   ]
  },
  {
   "cell_type": "code",
   "execution_count": 21,
   "id": "f316fca6",
   "metadata": {},
   "outputs": [
    {
     "name": "stdout",
     "output_type": "stream",
     "text": [
      "Enter value of n: 10\n",
      "Total sum is:  55\n",
      "Total product is:  3628800\n"
     ]
    }
   ],
   "source": [
    "n = input(\"Enter value of n: \")\n",
    "try:\n",
    "    n = int(n)\n",
    "    total_sum = 0\n",
    "    total_prod = 1\n",
    "    for i in range(1, n+1):\n",
    "        total_sum = total_sum + i\n",
    "        total_prod *= i\n",
    "    print(\"Total sum is: \", total_sum)\n",
    "    print(\"Total product is: \", total_prod)\n",
    "except:\n",
    "    print(\"Please enter a natural number\")"
   ]
  },
  {
   "cell_type": "markdown",
   "id": "5af8e37d",
   "metadata": {},
   "source": [
    "## Q3. Create a python program to compute the electricity bill for a household.\n",
    "\n",
    "The per-unit charges in rupees are as follows: For the first 100 units, the user will be charged Rs. 4.5 per\n",
    "unit, for the next 100 units, the user will be charged Rs. 6 per unit, and for the next 100 units, the user will\n",
    "be charged Rs. 10 per unit, After 300 units and above the user will be charged Rs. 20 per unit.\n",
    "You are required to take the units of electricity consumed in a month from the user as input.\n",
    "Your program must pass this test case: when the unit of electricity consumed by the user in a month is\n",
    "310, the total electricity bill should be 2250."
   ]
  },
  {
   "cell_type": "code",
   "execution_count": 3,
   "id": "7537b7f4",
   "metadata": {},
   "outputs": [
    {
     "name": "stdout",
     "output_type": "stream",
     "text": [
      "2250.0\n"
     ]
    }
   ],
   "source": [
    "def cal_bill(units):\n",
    "    if units <= 100:\n",
    "        return 100*4.5\n",
    "    elif units <= 200:\n",
    "        return (100*4.5) + ((units-100)*6)\n",
    "    elif units <= 300:\n",
    "        return (100*4.5) + (100*6) + ((units-200)*10)\n",
    "    elif units > 300:\n",
    "        return (100*4.5) + (100*6) + (100*10) + ((units-300)*20)\n",
    "units = 310\n",
    "print(cal_bill(units))\n"
   ]
  },
  {
   "cell_type": "markdown",
   "id": "0dda1318",
   "metadata": {},
   "source": [
    "## Q4. Create a list of numbers from 1 to 100.\n",
    "Use for loop and while loop to calculate the cube of eachnumber and if the cube of that number is divisible by 4 or 5 then append that number in a list and print that list."
   ]
  },
  {
   "cell_type": "code",
   "execution_count": 6,
   "id": "cd8460a5",
   "metadata": {},
   "outputs": [
    {
     "name": "stdout",
     "output_type": "stream",
     "text": [
      "[2, 4, 5, 6, 8, 10, 12, 14, 15, 16, 18, 20, 22, 24, 25, 26, 28, 30, 32, 34, 35, 36, 38, 40, 42, 44, 45, 46, 48, 50, 52, 54, 55, 56, 58, 60, 62, 64, 65, 66, 68, 70, 72, 74, 75, 76, 78, 80, 82, 84, 85, 86, 88, 90, 92, 94, 95, 96, 98, 100]\n"
     ]
    }
   ],
   "source": [
    "l = []\n",
    "for i in range(1,101):\n",
    "    if i*i*i % 4 == 0 or i*i*i % 5 == 0:\n",
    "        l.append(i)\n",
    "print(l)"
   ]
  },
  {
   "cell_type": "code",
   "execution_count": 10,
   "id": "01db372e",
   "metadata": {},
   "outputs": [
    {
     "name": "stdout",
     "output_type": "stream",
     "text": [
      "[2, 4, 5, 6, 8, 10, 12, 14, 15, 16, 18, 20, 22, 24, 25, 26, 28, 30, 32, 34, 35, 36, 38, 40, 42, 44, 45, 46, 48, 50, 52, 54, 55, 56, 58, 60, 62, 64, 65, 66, 68, 70, 72, 74, 75, 76, 78, 80, 82, 84, 85, 86, 88, 90, 92, 94, 95, 96, 98, 100]\n"
     ]
    }
   ],
   "source": [
    "l = []\n",
    "i = 1\n",
    "while i <= 100:\n",
    "    if i*i*i % 4 == 0 or i*i*i % 5 == 0:\n",
    "        l.append(i)\n",
    "    i += 1\n",
    "print(l)"
   ]
  },
  {
   "cell_type": "markdown",
   "id": "e4b80a1d",
   "metadata": {},
   "source": [
    "## Q5. Write a program to filter count vowels in the below-given string.\n",
    "string = \"I want to become a data scientist\""
   ]
  },
  {
   "cell_type": "code",
   "execution_count": 16,
   "id": "dd6fb230",
   "metadata": {},
   "outputs": [
    {
     "name": "stdout",
     "output_type": "stream",
     "text": [
      "The total number of vowels in given string are :  12\n"
     ]
    }
   ],
   "source": [
    "str = \"I want to become a data scientist\"\n",
    "str = str.lower()\n",
    "count = 0\n",
    "for i in str:\n",
    "    if i == 'a' or i == 'e' or i == 'i' or i == 'o' or i == 'u':\n",
    "        count += 1\n",
    "print('The total number of vowels in given string are : ',count)"
   ]
  },
  {
   "cell_type": "code",
   "execution_count": null,
   "id": "c6451482",
   "metadata": {},
   "outputs": [],
   "source": []
  }
 ],
 "metadata": {
  "kernelspec": {
   "display_name": "Python 3 (ipykernel)",
   "language": "python",
   "name": "python3"
  },
  "language_info": {
   "codemirror_mode": {
    "name": "ipython",
    "version": 3
   },
   "file_extension": ".py",
   "mimetype": "text/x-python",
   "name": "python",
   "nbconvert_exporter": "python",
   "pygments_lexer": "ipython3",
   "version": "3.9.13"
  }
 },
 "nbformat": 4,
 "nbformat_minor": 5
}
